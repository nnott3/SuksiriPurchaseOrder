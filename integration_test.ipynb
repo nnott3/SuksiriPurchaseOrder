{
 "cells": [
  {
   "cell_type": "markdown",
   "id": "d346546b",
   "metadata": {},
   "source": [
    "# Install"
   ]
  },
  {
   "cell_type": "code",
   "execution_count": null,
   "id": "481eeebc",
   "metadata": {},
   "outputs": [],
   "source": [
    "!pip install -r requirements.txt"
   ]
  },
  {
   "cell_type": "markdown",
   "id": "4a3f976a",
   "metadata": {},
   "source": [
    "# Import"
   ]
  },
  {
   "cell_type": "code",
   "execution_count": 6,
   "id": "da5c4598",
   "metadata": {},
   "outputs": [],
   "source": [
    "from agentic_doc.parse import parse\n",
    "from agentic_doc.utils import viz_parsed_document\n",
    "from agentic_doc.config import VisualizationConfig\n",
    "from bs4 import BeautifulSoup\n",
    "import json\n",
    "import pandas as pd\n",
    "from io import StringIO\n",
    "import os\n",
    "import gspread\n",
    "from google.oauth2.service_account import Credentials\n",
    "from googleapiclient.discovery import build\n",
    "\n",
    "from __future__ import annotations\n",
    "\n",
    "from typing import List\n",
    "\n",
    "from pydantic import BaseModel, Field\n",
    "from agentic_doc.parse import parse\n",
    "from agentic_doc.connectors import LocalConnectorConfig\n",
    "\n",
    "\n"
   ]
  },
  {
   "cell_type": "code",
   "execution_count": 7,
   "id": "7d8adae9",
   "metadata": {},
   "outputs": [],
   "source": [
    "# Read every img files in /picsToExtract\n",
    "# Save Analyzed results in /picsFinished"
   ]
  },
  {
   "cell_type": "markdown",
   "id": "99706eea",
   "metadata": {},
   "source": [
    "# Store_list"
   ]
  },
  {
   "cell_type": "code",
   "execution_count": 8,
   "id": "dd7925b3",
   "metadata": {},
   "outputs": [
    {
     "name": "stdout",
     "output_type": "stream",
     "text": [
      "file_cache is only supported with oauth2client<4.0.0 (__init__.py:49)\n",
      "['จเร', 'ไทวัสดุ', 'ดีเดย์', 'CSS', 'โฮมโปร', 'H.T.', 'อิทธิฤทธิ์ ไนซ์', 'อนันตกาญจน์', 'เทียนทอง', 'บ้านสุขภัณฑ์', 'ภูเก็ต Tools', 'โมเดิร์น PVC', 'อินฟินิตี้ IT', 'KML', 'PEMCO', 'ซุปเปอร์เซ็นเตอร์', 'แสงนิรันดร์', 'แอดวานซ์', 'คอมพลีท อิเล็คทริเคิล โซลูชั่น', 'SMART HOME', 'พีแอลวาย', 'กิจเจริญ', 'สากลเวิร์ค', 'เดอะโฮมมาร์ทแม็ก', 'กี่หิ้น', 'จอมทองเคหะภัณฑ์', 'แสงชัย', 'ซุปเปอร์ชีป', 'DP', 'เอสซีที', 'อำพัน', 'องอาจ', 'โรงไม้ตะกั่วป่า', 'มินิเอเจอร์', 'ฉลองคอนกรีต', 'ลิกซิล', 'ไลน์คอร์นเนอร์', 'มัลติ ไอที เซอร์วิส', 'ธนากลาส', 'เกาะแก้วชัยสตีล', 'ควอลิตี้ โฮมมาร์ท', 'S.M.', 'ไลท์ติ้งดรีม', 'ภูเก็ต โชคโยธา', 'เบรน ไทย', 'Tooltopia', 'ราชาท่อใยหิน', 'สมถวิลการเกษตร', 'ดีพี โซลูชั่น', 'ทีซีเทคมาร์ค', 'ภูเก็ต อิงค์']\n"
     ]
    },
    {
     "data": {
      "text/html": [
       "<div>\n",
       "<style scoped>\n",
       "    .dataframe tbody tr th:only-of-type {\n",
       "        vertical-align: middle;\n",
       "    }\n",
       "\n",
       "    .dataframe tbody tr th {\n",
       "        vertical-align: top;\n",
       "    }\n",
       "\n",
       "    .dataframe thead th {\n",
       "        text-align: right;\n",
       "    }\n",
       "</style>\n",
       "<table border=\"1\" class=\"dataframe\">\n",
       "  <thead>\n",
       "    <tr style=\"text-align: right;\">\n",
       "      <th></th>\n",
       "      <th>ร้านค้า</th>\n",
       "      <th>ยังไม่รวม VAT</th>\n",
       "      <th>จำนวนสินค้า</th>\n",
       "      <th>จำนวนออเดอร์</th>\n",
       "      <th>มูลค่ารวม</th>\n",
       "      <th>ซื้อทุกๆกี่วัน</th>\n",
       "    </tr>\n",
       "  </thead>\n",
       "  <tbody>\n",
       "    <tr>\n",
       "      <th>0</th>\n",
       "      <td>จเร</td>\n",
       "      <td>True</td>\n",
       "      <td>188</td>\n",
       "      <td>113</td>\n",
       "      <td>487,772</td>\n",
       "      <td>2.46</td>\n",
       "    </tr>\n",
       "    <tr>\n",
       "      <th>1</th>\n",
       "      <td>ไทวัสดุ</td>\n",
       "      <td>False</td>\n",
       "      <td>92</td>\n",
       "      <td>57</td>\n",
       "      <td>75,756</td>\n",
       "      <td>4.30</td>\n",
       "    </tr>\n",
       "    <tr>\n",
       "      <th>2</th>\n",
       "      <td>ดีเดย์</td>\n",
       "      <td>False</td>\n",
       "      <td>109</td>\n",
       "      <td>49</td>\n",
       "      <td>87,439</td>\n",
       "      <td>4.42</td>\n",
       "    </tr>\n",
       "    <tr>\n",
       "      <th>3</th>\n",
       "      <td>CSS</td>\n",
       "      <td>True</td>\n",
       "      <td>65</td>\n",
       "      <td>39</td>\n",
       "      <td>1,063,699</td>\n",
       "      <td>5.27</td>\n",
       "    </tr>\n",
       "    <tr>\n",
       "      <th>4</th>\n",
       "      <td>โฮมโปร</td>\n",
       "      <td>False</td>\n",
       "      <td>67</td>\n",
       "      <td>26</td>\n",
       "      <td>32,569</td>\n",
       "      <td>8.04</td>\n",
       "    </tr>\n",
       "  </tbody>\n",
       "</table>\n",
       "</div>"
      ],
      "text/plain": [
       "   ร้านค้า  ยังไม่รวม VAT จำนวนสินค้า จำนวนออเดอร์  มูลค่ารวม ซื้อทุกๆกี่วัน\n",
       "0      จเร           True         188          113    487,772           2.46\n",
       "1  ไทวัสดุ          False          92           57     75,756           4.30\n",
       "2   ดีเดย์          False         109           49     87,439           4.42\n",
       "3      CSS           True          65           39  1,063,699           5.27\n",
       "4   โฮมโปร          False          67           26     32,569           8.04"
      ]
     },
     "execution_count": 8,
     "metadata": {},
     "output_type": "execute_result"
    }
   ],
   "source": [
    "SCOPES = [\"https://www.googleapis.com/auth/spreadsheets\"]\n",
    "creds = Credentials.from_service_account_file(\"suksiri-purchase-test-0f09e84df6dd.json\", scopes=SCOPES)\n",
    "client = gspread.authorize(creds)\n",
    "service = build(\"sheets\", \"v4\", credentials=creds)\n",
    "\n",
    "spreadsheet_id = \"17chQLsKcpyZNnJyw8Ads-WRz45kNvI1AbvwsdIlcXqs\"\n",
    "\n",
    "sheets = client.open_by_key(spreadsheet_id)\n",
    "store_data = sheets.worksheet(\"ข้อมูลร้านค้า\")\n",
    "sheet = sheets.worksheet(\"COPY รายการสินค้า\")\n",
    "\n",
    "table_range = \"ข้อมูลร้านค้า!B2:G\"  \n",
    "\n",
    "result = service.spreadsheets().values().get(\n",
    "    spreadsheetId=spreadsheet_id,\n",
    "    range=table_range\n",
    ").execute()\n",
    "\n",
    "values = result.get(\"values\", [])\n",
    "\n",
    "# Convert to DataFrame\n",
    "df_table2 = pd.DataFrame(values[1:], columns=values[0])  # first row is header\n",
    "\n",
    "# --- Keep only rows where 'ร้านค้า' is not None or empty ---\n",
    "df_filtered = df_table2[df_table2['ร้านค้า'].notna() & (df_table2['ร้านค้า'] != '')].copy()\n",
    "\n",
    "# --- Convert 'ยังไม่รวม VAT' from string 'TRUE'/'FALSE' to boolean ---\n",
    "df_filtered['ยังไม่รวม VAT'] = df_filtered['ยังไม่รวม VAT'].map(lambda x: True if str(x).upper() == 'TRUE' else False)\n",
    "\n",
    "\n",
    "unique_store_list = df_filtered['ร้านค้า'].unique().tolist()\n",
    "\n",
    "print(unique_store_list)\n",
    "\n",
    "df_filtered.head()"
   ]
  },
  {
   "cell_type": "markdown",
   "id": "a0fb5203",
   "metadata": {},
   "source": [
    "# ExtractedDocumentFieldsSchema Class"
   ]
  },
  {
   "cell_type": "code",
   "execution_count": 19,
   "id": "dc3502d0",
   "metadata": {},
   "outputs": [],
   "source": [
    "class CompanyInfo(BaseModel):\n",
    "    companyName: str = Field(\n",
    "        ...,\n",
    "        description=f'Identify the official name of the seller/supplier company as stated in the document. Compare it to the following list of known companies: [{\", \".join(unique_store_list)}]. Return the closest match, ignoring common words like [\"ห้างหุ้นส่วนจำกัด\", \"บริษัท\", \"จำกัด\", \"บจก.\", \"หจก.\", \"จํากัด\", \"ก้าวไกล\"] for matching purposes. If no sufficiently similar match is found, retain the original text from the document.',\n",
    "        title='Company Name',\n",
    "    )\n",
    "    taxId: str = Field(\n",
    "        ...,\n",
    "        description=\"The seller/supplier company's tax identification number.\",\n",
    "        title='Tax Identification Number',\n",
    "    )\n",
    "\n",
    "\n",
    "class CustomerInfo(BaseModel):\n",
    "    customerName: str = Field(\n",
    "        ..., description='The name of the customer or recipient.', title='Customer Name'\n",
    "    )\n",
    "    \n",
    "\n",
    "class DocumentInfo(BaseModel):\n",
    "    documentNumber: str = Field(\n",
    "        ...,\n",
    "        description='Unique identifier or reference number(เลขที่กำกับ) for the document.',\n",
    "        title='Document Number',\n",
    "    )\n",
    "    documentDate: str = Field(\n",
    "        ..., description='Date the document was issued with Year formatted in คริสต์ศักราช (ค.ศ.)/AD (Anno Domini) if it was initially written in the format of พุทธศักราช (พ.ศ.)/BE (Buddhist Era)', title='Document Date'\n",
    "    )\n",
    "    \n",
    "\n",
    "\n",
    "class Item(BaseModel):\n",
    "    description: str = Field(\n",
    "        ..., description='Description of the item or service.', title='Description'\n",
    "    )\n",
    "    quantity: str = Field(..., description='Quantity of the item.', title='Quantity')\n",
    "    unitPrice: str = Field(\n",
    "        ..., description='Price per unit of the item.', title='Unit Price'\n",
    "    )\n",
    "    unitName: str = Field(..., description='Unit of measurement for the item, for example, meter, Pcs, ea, kg, box, อัน, ใบ, เส้น, ท่อน, ตัว, กระป๋อง, หลอด, ม้วน', title='Unit Name')\n",
    "    amount: str = Field(..., description='Total amount for the item.', title='Amount')\n",
    "    discount: str = Field(..., description='Discount applied to the item.', title='Item Discount')\n",
    "    discountType: str = Field(..., description='Type of discount applied in Thai Baht or in Percentage or No Discount', title='Discount Type')\n",
    "\n",
    "class Totals(BaseModel):\n",
    "    grossAmount: str = Field(\n",
    "        ...,\n",
    "        description='Total gross amount before discounts and taxes.',\n",
    "        title='Gross Amount',\n",
    "    )\n",
    "    netAmount: str = Field(\n",
    "        ..., description='Net amount after discounts.', title='Net Amount'\n",
    "    )\n",
    "    vat: str = Field(..., description='Value-added tax amount.', title='VAT')\n",
    "    grandTotal: str = Field(\n",
    "        ...,\n",
    "        description='Total amount payable including all taxes.',\n",
    "        title='Grand Total',\n",
    "    )\n",
    "\n",
    "\n",
    "class ExtractedDocumentFieldsSchema(BaseModel):\n",
    "    \n",
    "    companyInfo: CompanyInfo = Field(\n",
    "        ...,\n",
    "        description='Key company details from headers and form fields.',\n",
    "        title='Company Information',\n",
    "    )\n",
    "    customerInfo: CustomerInfo = Field(\n",
    "        ...,\n",
    "        description='Details about the customer or recipient of the invoice/delivery.',\n",
    "        title='Customer Information',\n",
    "    )\n",
    "    documentInfo: DocumentInfo = Field(\n",
    "        ...,\n",
    "        description='Key identifiers and dates for the document.',\n",
    "        title='Document Information',\n",
    "    )\n",
    "    items: List[Item] = Field(\n",
    "        ...,\n",
    "        description='List of items, products, or services from the main table(s) in the document.',\n",
    "        title='Itemized Table',\n",
    "    )\n",
    "    totals: Totals = Field(\n",
    "        ...,\n",
    "        description='Summary of financial totals from the document.',\n",
    "        title='Totals and Summary',\n",
    "    )\n",
    "    \n"
   ]
  },
  {
   "cell_type": "markdown",
   "id": "5b2c6810",
   "metadata": {},
   "source": [
    "# Execute"
   ]
  },
  {
   "cell_type": "code",
   "execution_count": 10,
   "id": "4e619da0",
   "metadata": {},
   "outputs": [
    {
     "name": "stdout",
     "output_type": "stream",
     "text": [
      "\u001b[2m2025-08-28 08:07:36\u001b[0m [info   \u001b[0m] \u001b[1mAPI key is valid.             \u001b[0m [\u001b[0m\u001b[1m\u001b[34magentic_doc.utils\u001b[0m]\u001b[0m (utils.py:42)\n",
      "\u001b[2m2025-08-28 08:07:36\u001b[0m [info   \u001b[0m] \u001b[1mParsing 1 documents           \u001b[0m [\u001b[0m\u001b[1m\u001b[34magentic_doc.parse\u001b[0m]\u001b[0m (parse.py:280)\n"
     ]
    },
    {
     "name": "stderr",
     "output_type": "stream",
     "text": [
      "Parsing documents:   0%|          | 0/1 [00:00<?, ?it/s]"
     ]
    },
    {
     "name": "stdout",
     "output_type": "stream",
     "text": [
      "HTTP Request: POST https://api.va.landing.ai/v1/tools/agentic-document-analysis \"HTTP/1.1 200 OK\" (_client.py:1025)\n",
      "\u001b[2m2025-08-28 08:08:20\u001b[0m [info   \u001b[0m] \u001b[1mTime taken to successfully parse a document chunk: 44.15 seconds\u001b[0m [\u001b[0m\u001b[1m\u001b[34magentic_doc.parse\u001b[0m]\u001b[0m (parse.py:825)\n"
     ]
    },
    {
     "name": "stderr",
     "output_type": "stream",
     "text": [
      "Parsing documents: 100%|██████████| 1/1 [00:44<00:00, 44.11s/it]\n",
      "Parsing documents: 100%|██████████| 1/1 [00:44<00:00, 44.11s/it]\n"
     ]
    }
   ],
   "source": [
    "results = parse(\"./picsToExtract/1.jpeg\", extraction_model=ExtractedDocumentFieldsSchema)\n",
    "fields = results[0].extraction\n"
   ]
  },
  {
   "cell_type": "code",
   "execution_count": 13,
   "id": "2e09f478",
   "metadata": {},
   "outputs": [
    {
     "name": "stdout",
     "output_type": "stream",
     "text": [
      "----------\n",
      "เกาะแก้วชัยสตีล\n",
      "0833539000324\n",
      "----------\n",
      "บจก. สุขสิริ เอ็นจิเนียริ่ง\n",
      "----------\n",
      "HS68010419\n",
      "2025-01-04\n",
      "----------\n",
      "เหล็กกล้าวาไนซ์ 4\"(1.2-3.2มม.)\n",
      "8\n",
      "1650.00\n",
      "13200.00\n",
      "0.00\n",
      "No Discount\n",
      "----------\n",
      "15030.00\n",
      "14046.73\n",
      "983.27\n",
      "15030.00\n"
     ]
    }
   ],
   "source": [
    "print(\"----------\")\n",
    "print(fields.companyInfo.companyName) \n",
    "## check company name in any of the list ## \n",
    "print(fields.companyInfo.taxId)\n",
    "\n",
    "print(\"----------\")\n",
    "print(fields.customerInfo.customerName)\n",
    "\n",
    "print(\"----------\")\n",
    "print(fields.documentInfo.documentNumber)\n",
    "print(fields.documentInfo.documentDate)\n",
    "\n",
    "print(\"----------\")\n",
    "print(fields.items[0].description)\n",
    "print(fields.items[0].quantity)\n",
    "print(fields.items[0].unitPrice)\n",
    "print(fields.items[0].amount)\n",
    "print(fields.items[0].discount)\n",
    "print(fields.items[0].discountType)\n",
    "\n",
    "print(\"----------\")\n",
    "print(fields.totals.grossAmount)\n",
    "print(fields.totals.netAmount)\n",
    "print(fields.totals.vat)\n",
    "print(fields.totals.grandTotal)\n",
    "\n",
    "# fields.companyInfo"
   ]
  },
  {
   "cell_type": "markdown",
   "id": "f30f6cc1",
   "metadata": {},
   "source": [
    "# Build_rows"
   ]
  },
  {
   "cell_type": "code",
   "execution_count": 14,
   "id": "704ceba3",
   "metadata": {},
   "outputs": [],
   "source": [
    "def build_rows(fields):\n",
    "    metadata = {\n",
    "        \"วันเดือนปี\": fields.documentInfo.documentDate,\n",
    "        \"ร้านค้า\": fields.companyInfo.companyName,\n",
    "        \"เลขกำกับ\": fields.documentInfo.documentNumber,\n",
    "        # \"taxId\": fields.companyInfo.taxId,\n",
    "        # \"customerName\": fields.customerInfo.customerName,\n",
    "        # \"grossAmount\": fields.totals.grossAmount,\n",
    "        # \"netAmount\": fields.totals.netAmount,\n",
    "        # \"vat\": fields.totals.vat,\n",
    "        # \"grandTotal\": fields.totals.grandTotal,\n",
    "    }\n",
    "    rows = []\n",
    "    # Handle items\n",
    "    for i, item in enumerate(fields.items):\n",
    "        row = metadata.copy()\n",
    "        row[\"รายการสินค้า\"] = item.description\n",
    "        row[\"จำนวน\"] = float(item.quantity.replace(\",\", \"\"))\n",
    "        row[\"หน่วย\"] = item.unitName\n",
    "        row[\"ราคาต่อหน่วย\"] = float(item.unitPrice.replace(\",\", \"\"))\n",
    "        \n",
    "        # set defaults to empty cells\n",
    "        row[\"ลดราคา(%)\"], row[\"ลดราคา(บาท)\"] = \"\", \"\"\n",
    "        if item.discountType == \"บาท\":\n",
    "            row[\"ลดราคา(บาท)\"] = float(item.discount.strip('฿').replace(\",\", \"\"))\n",
    "        elif item.discountType == \"Percentage\":\n",
    "            row[\"ลดราคา(%)\"] = float(item.discount.strip('%'))\n",
    "\n",
    "        rows.append(row)\n",
    "    \n",
    "    return rows\n",
    "\n",
    "build_rows(fields);\n",
    "# {'วันเดือนปี': '2025-01-04',\n",
    "#   'ร้านค้า': 'Communication & System Solution Public Company Limited',\n",
    "#   'เลขกำกับ': 'IV-H680000099',\n",
    "#   'รายการสินค้า': 'THW-A 25 SQ.MM. (ขาวตลอด) \"BCC\"',\n",
    "#   'จำนวน': 200.0,\n",
    "#   'หน่วย': 'Metre',\n",
    "#   'ราคาต่อหน่วย': 25.44,\n",
    "#   'ลดราคา(%)': 42.0,\n",
    "#   'ลดราคา(บาท)': ''}"
   ]
  },
  {
   "cell_type": "markdown",
   "id": "3ee78e02",
   "metadata": {},
   "source": [
    "# GG Sheet"
   ]
  },
  {
   "cell_type": "code",
   "execution_count": null,
   "id": "0f5bbfb5",
   "metadata": {},
   "outputs": [],
   "source": [
    "def update_sheet(rows):\n",
    "    df = pd.DataFrame(rows)\n",
    "    values = df.values.tolist()\n",
    "    \n",
    "    start_row = len(sheet.get_all_values()) + 1  # +1 because Sheets are 1-indexed\n",
    "\n",
    "    for i, row in enumerate(values):\n",
    "        current_row = start_row + i\n",
    "\n",
    "        # Column J: ยอดเงิน\n",
    "        row.append(\"=Transactions_2[จำนวน]*Transactions_2[ราคาต่อหน่วย]\")\n",
    "\n",
    "        # Column K: ยอดเงินหลังลดราคา\n",
    "        row.append(\"=IF(Transactions_2[ลดราคา(%)], Transactions_2[ยอดเงิน]*(1-Transactions_2[ลดราคา(%)]/100), Transactions_2[ยอดเงิน]-Transactions_2[ลดราคา(บาท)])\")\n",
    "\n",
    "        # Column L: ยอดรวมต่อรายการ\n",
    "        row.append(f\"=SUMIF(Transactions_2[เลขกำกับ], C{current_row}, Transactions_2[ยอดเงินหลังลดราคา])\")\n",
    "\n",
    "        # Column M: ยอดรวมหลังภาษี\n",
    "        row.append(\n",
    "            f\"=IF(XLOOKUP(B{current_row}, Table2[ร้านค้า], Table2[ยังไม่รวม VAT], FALSE), $L{current_row}*1.07, $L{current_row})\"\n",
    "        )\n",
    "\n",
    "    # Append all rows to the sheet\n",
    "    sheet.append_rows(values, value_input_option=\"USER_ENTERED\")\n",
    "\n",
    "    return pd.DataFrame(values)\n",
    "    \n",
    "# Example usage\n",
    "rows = build_rows(fields)\n",
    "update_sheet(rows);\n"
   ]
  },
  {
   "cell_type": "markdown",
   "id": "b82c2d8a",
   "metadata": {},
   "source": [
    "# Visualizatoon"
   ]
  },
  {
   "cell_type": "code",
   "execution_count": null,
   "id": "c0210400",
   "metadata": {},
   "outputs": [],
   "source": [
    "def visualize_parsing(filepath, parsed_doc):\n",
    "    viz_config = VisualizationConfig(\n",
    "        thickness=2,  # Thicker bounding boxes\n",
    "        text_bg_opacity=0.8,  # More opaque text background\n",
    "        font_scale=0.7,  # Larger text\n",
    "        # color_map={\n",
    "        #     ChunkType.TEXT: (255, 0, 0),  \n",
    "        #     ChunkType.TABLE: (255, 255, 0), }\n",
    "    )\n",
    "\n",
    "    images = viz_parsed_document(\n",
    "        filepath,\n",
    "        parsed_doc,\n",
    "        output_dir=\"picsFinished\",\n",
    "        viz_config=viz_config\n",
    "    )\n",
    "    "
   ]
  },
  {
   "cell_type": "markdown",
   "id": "a6c5b4a2",
   "metadata": {},
   "source": [
    "# Integration"
   ]
  },
  {
   "cell_type": "code",
   "execution_count": 20,
   "id": "9cdd406c",
   "metadata": {},
   "outputs": [
    {
     "name": "stdout",
     "output_type": "stream",
     "text": [
      "\u001b[2m2025-08-28 08:19:16\u001b[0m [info   \u001b[0m] \u001b[1mAPI key is valid.             \u001b[0m [\u001b[0m\u001b[1m\u001b[34magentic_doc.utils\u001b[0m]\u001b[0m (utils.py:42)\n",
      "\u001b[2m2025-08-28 08:19:16\u001b[0m [info   \u001b[0m] \u001b[1mParsing 5 documents           \u001b[0m [\u001b[0m\u001b[1m\u001b[34magentic_doc.parse\u001b[0m]\u001b[0m (parse.py:280)\n"
     ]
    },
    {
     "name": "stderr",
     "output_type": "stream",
     "text": [
      "Parsing documents:   0%|          | 0/5 [00:00<?, ?it/s]"
     ]
    },
    {
     "name": "stdout",
     "output_type": "stream",
     "text": [
      "HTTP Request: POST https://api.va.landing.ai/v1/tools/agentic-document-analysis \"HTTP/1.1 200 OK\" (_client.py:1025)\n",
      "\u001b[2m2025-08-28 08:19:48\u001b[0m [info   \u001b[0m] \u001b[1mTime taken to successfully parse a document chunk: 32.25 seconds\u001b[0m [\u001b[0m\u001b[1m\u001b[34magentic_doc.parse\u001b[0m]\u001b[0m (parse.py:825)\n",
      "HTTP Request: POST https://api.va.landing.ai/v1/tools/agentic-document-analysis \"HTTP/1.1 200 OK\" (_client.py:1025)\n",
      "\u001b[2m2025-08-28 08:19:57\u001b[0m [info   \u001b[0m] \u001b[1mTime taken to successfully parse a document chunk: 40.95 seconds\u001b[0m [\u001b[0m\u001b[1m\u001b[34magentic_doc.parse\u001b[0m]\u001b[0m (parse.py:825)\n"
     ]
    },
    {
     "name": "stderr",
     "output_type": "stream",
     "text": [
      "Parsing documents:  20%|██        | 1/5 [00:40<02:43, 40.96s/it]"
     ]
    },
    {
     "name": "stdout",
     "output_type": "stream",
     "text": [
      "HTTP Request: POST https://api.va.landing.ai/v1/tools/agentic-document-analysis \"HTTP/1.1 200 OK\" (_client.py:1025)\n",
      "\u001b[2m2025-08-28 08:20:08\u001b[0m [info   \u001b[0m] \u001b[1mTime taken to successfully parse a document chunk: 52.40 seconds\u001b[0m [\u001b[0m\u001b[1m\u001b[34magentic_doc.parse\u001b[0m]\u001b[0m (parse.py:825)\n",
      "HTTP Request: POST https://api.va.landing.ai/v1/tools/agentic-document-analysis \"HTTP/1.1 200 OK\" (_client.py:1025)\n",
      "\u001b[2m2025-08-28 08:20:15\u001b[0m [info   \u001b[0m] \u001b[1mTime taken to successfully parse a document chunk: 27.22 seconds\u001b[0m [\u001b[0m\u001b[1m\u001b[34magentic_doc.parse\u001b[0m]\u001b[0m (parse.py:825)\n",
      "HTTP Request: POST https://api.va.landing.ai/v1/tools/agentic-document-analysis \"HTTP/1.1 200 OK\" (_client.py:1025)\n",
      "\u001b[2m2025-08-28 08:21:48\u001b[0m [info   \u001b[0m] \u001b[1mTime taken to successfully parse a document chunk: 152.55 seconds\u001b[0m [\u001b[0m\u001b[1m\u001b[34magentic_doc.parse\u001b[0m]\u001b[0m (parse.py:825)\n"
     ]
    },
    {
     "name": "stderr",
     "output_type": "stream",
     "text": [
      "Parsing documents: 100%|██████████| 5/5 [02:32<00:00, 30.51s/it]"
     ]
    },
    {
     "name": "stdout",
     "output_type": "stream",
     "text": [
      "[{'วันเดือนปี': '2025-01-04', 'ร้านค้า': 'ห้างหุ้นส่วนจำกัด เกาะแก้วชัยสตีล', 'เลขกำกับ': 'HS68010419', 'รายการสินค้า': 'เหล็กกล้าวาไนซ์ 4\"(1.2-3.2มม.)', 'จำนวน': 8.0, 'หน่วย': 'เส้น', 'ราคาต่อหน่วย': 1650.0, 'ลดราคา(%)': '', 'ลดราคา(บาท)': ''}, {'วันเดือนปี': '2025-01-04', 'ร้านค้า': 'ห้างหุ้นส่วนจำกัด เกาะแก้วชัยสตีล', 'เลขกำกับ': 'HS68010419', 'รายการสินค้า': 'เหล็กดำ 4\"(1/4-1/2\")', 'จำนวน': 1.0, 'หน่วย': 'เส้น', 'ราคาต่อหน่วย': 1830.0, 'ลดราคา(%)': '', 'ลดราคา(บาท)': ''}]\n"
     ]
    },
    {
     "name": "stderr",
     "output_type": "stream",
     "text": [
      "\n"
     ]
    },
    {
     "name": "stdout",
     "output_type": "stream",
     "text": [
      "[{'วันเดือนปี': '2025-01-08', 'ร้านค้า': 'กิจเจริญ ก้าวไกล', 'เลขกำกับ': 'HS6801005', 'รายการสินค้า': '10-PPR-10120/ ท่อPPR D-20 เขียว/ขาว PN20(25:มัด)', 'จำนวน': 8.0, 'หน่วย': 'เส้น', 'ราคาต่อหน่วย': 216.0, 'ลดราคา(%)': 57.0, 'ลดราคา(บาท)': ''}, {'วันเดือนปี': '2025-01-08', 'ร้านค้า': 'กิจเจริญ ก้าวไกล', 'เลขกำกับ': 'HS6801005', 'รายการสินค้า': '10-PPR-10425/ ข้อ90PPR-D-25', 'จำนวน': 10.0, 'หน่วย': 'ตัว', 'ราคาต่อหน่วย': 22.0, 'ลดราคา(%)': 52.0, 'ลดราคา(บาท)': ''}]\n",
      "[{'วันเดือนปี': '2025-01-11', 'ร้านค้า': 'ดีเดย์', 'เลขกำกับ': 'HS6800260', 'รายการสินค้า': 'ดอกสกัดไร้ครัว แกนกลม หัวแผน PUMPKIN(196115) 14mm', 'จำนวน': 2.0, 'หน่วย': 'ชิ้น', 'ราคาต่อหน่วย': 85.0, 'ลดราคา(%)': '', 'ลดราคา(บาท)': ''}, {'วันเดือนปี': '2025-01-11', 'ร้านค้า': 'ดีเดย์', 'เลขกำกับ': 'HS6800260', 'รายการสินค้า': 'ดอกสกัดไร้ครัว แกนกลม หัวแบน PUMPKIN (196108) 14mm', 'จำนวน': 2.0, 'หน่วย': 'ชิ้น', 'ราคาต่อหน่วย': 85.0, 'ลดราคา(%)': '', 'ลดราคา(บาท)': ''}, {'วันเดือนปี': '2025-01-11', 'ร้านค้า': 'ดีเดย์', 'เลขกำกับ': 'HS6800260', 'รายการสินค้า': 'กิ๊บ เข็มขัดวง 1-1/2\"', 'จำนวน': 30.0, 'หน่วย': 'ตัว', 'ราคาต่อหน่วย': 5.0, 'ลดราคา(%)': '', 'ลดราคา(บาท)': ''}, {'วันเดือนปี': '2025-01-11', 'ร้านค้า': 'ดีเดย์', 'เลขกำกับ': 'HS6800260', 'รายการสินค้า': 'ซิลิโคน/กาวยูนิ MAXBOND (20/ถัง)', 'จำนวน': 3.0, 'หน่วย': 'หลอด', 'ราคาต่อหน่วย': 120.0, 'ลดราคา(%)': '', 'ลดราคา(บาท)': ''}, {'วันเดือนปี': '2025-01-11', 'ร้านค้า': 'ดีเดย์', 'เลขกำกับ': 'HS6800260', 'รายการสินค้า': 'น๊อตเหล็ก 3/8\" ***', 'จำนวน': 70.0, 'หน่วย': 'ตัว', 'ราคาต่อหน่วย': 5.0, 'ลดราคา(%)': '', 'ลดราคา(บาท)': ''}]\n",
      "[{'วันเดือนปี': '2025-01-04', 'ร้านค้า': 'CSS', 'เลขกำกับ': 'IV-H680000099', 'รายการสินค้า': 'THW-A 25 SQ.MM. (ขาวตลอด) \"BCC\"', 'จำนวน': 200.0, 'หน่วย': 'Metre', 'ราคาต่อหน่วย': 25.44, 'ลดราคา(%)': 42.0, 'ลดราคา(บาท)': ''}, {'วันเดือนปี': '2025-01-04', 'ร้านค้า': 'CSS', 'เลขกำกับ': 'IV-H680000099', 'รายการสินค้า': 'THW-A 35 SQ.MM. (ขาวตลอด) \"BCC\" (ตัดม้วนละ 100 เมตร)', 'จำนวน': 300.0, 'หน่วย': 'Metre', 'ราคาต่อหน่วย': 32.87, 'ลดราคา(%)': 42.0, 'ลดราคา(บาท)': ''}, {'วันเดือนปี': '2025-01-04', 'ร้านค้า': 'CSS', 'เลขกำกับ': 'IV-H680000099', 'รายการสินค้า': 'THW-A 95 SQ.MM. BCC', 'จำนวน': 150.0, 'หน่วย': 'Metre', 'ราคาต่อหน่วย': 90.83, 'ลดราคา(%)': 42.0, 'ลดราคา(บาท)': ''}, {'วันเดือนปี': '2025-01-04', 'ร้านค้า': 'CSS', 'เลขกำกับ': 'IV-H680000099', 'รายการสินค้า': 'THW-A 95 SQ.MM. BCC', 'จำนวน': 150.0, 'หน่วย': 'Metre', 'ราคาต่อหน่วย': 90.83, 'ลดราคา(%)': 38.0, 'ลดราคา(บาท)': ''}]\n",
      "[{'วันเดือนปี': '2025-01-08', 'ร้านค้า': 'จเร', 'เลขกำกับ': 'IV6801000507', 'รายการสินค้า': 'BCC สายไฟ THW-A 16 มิล้า BK ถูกมีเซียม', 'จำนวน': 2.0, 'หน่วย': 'ม้วน', 'ราคาต่อหน่วย': 1721.0, 'ลดราคา(%)': 42.0, 'ลดราคา(บาท)': ''}]\n"
     ]
    }
   ],
   "source": [
    "config = LocalConnectorConfig()\n",
    "results = parse(config, \n",
    "                connector_path=\"./picsToExtract\", \n",
    "                connector_pattern=\"*.jpeg\",\n",
    "                extraction_model=ExtractedDocumentFieldsSchema\n",
    "                )\n",
    "for result in results:\n",
    "    fields = result.extraction  \n",
    "    rows = build_rows(fields)\n",
    "    print(rows)\n",
    "    update_sheet(rows)\n",
    "\n",
    "    # visualize_parsing(filepath,results[0])\n"
   ]
  },
  {
   "cell_type": "code",
   "execution_count": null,
   "id": "9bd8bb83",
   "metadata": {},
   "outputs": [],
   "source": []
  }
 ],
 "metadata": {
  "kernelspec": {
   "display_name": ".venv (3.12.1)",
   "language": "python",
   "name": "python3"
  },
  "language_info": {
   "codemirror_mode": {
    "name": "ipython",
    "version": 3
   },
   "file_extension": ".py",
   "mimetype": "text/x-python",
   "name": "python",
   "nbconvert_exporter": "python",
   "pygments_lexer": "ipython3",
   "version": "3.12.1"
  }
 },
 "nbformat": 4,
 "nbformat_minor": 5
}
